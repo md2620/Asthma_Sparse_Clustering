{
 "cells": [
  {
   "cell_type": "code",
   "execution_count": 1,
   "metadata": {},
   "outputs": [],
   "source": [
    "import pandas as pd"
   ]
  },
  {
   "cell_type": "code",
   "execution_count": 6,
   "metadata": {},
   "outputs": [],
   "source": [
    "df=pd.read_csv('/rds/general/user/md2620/home/asthma/Malo/Dataframes/df_midpoint_renamed_merger_done.csv', low_memory=False)"
   ]
  },
  {
   "cell_type": "code",
   "execution_count": 7,
   "metadata": {},
   "outputs": [
    {
     "data": {
      "text/html": [
       "<div>\n",
       "<style scoped>\n",
       "    .dataframe tbody tr th:only-of-type {\n",
       "        vertical-align: middle;\n",
       "    }\n",
       "\n",
       "    .dataframe tbody tr th {\n",
       "        vertical-align: top;\n",
       "    }\n",
       "\n",
       "    .dataframe thead th {\n",
       "        text-align: right;\n",
       "    }\n",
       "</style>\n",
       "<table border=\"1\" class=\"dataframe\">\n",
       "  <thead>\n",
       "    <tr style=\"text-align: right;\">\n",
       "      <th></th>\n",
       "      <th>Unnamed: 0</th>\n",
       "      <th>Patient</th>\n",
       "      <th>X.UBIOPRED.Adult_Cohort_.Jan_2019..Biomarker.Data.Baseline.Visit.Luminex.Serum.C5a.pg.ml.Luminex.serum.</th>\n",
       "      <th>X.UBIOPRED.Adult_Cohort_.Jan_2019..Biomarker.Data.Baseline.Visit.Luminex.Serum.CD30.pg.ml.Luminex.serum.</th>\n",
       "      <th>X.UBIOPRED.Adult_Cohort_.Jan_2019..Biomarker.Data.Baseline.Visit.Luminex.Serum.CD40L.pg.ml.Luminex.serum.</th>\n",
       "      <th>X.UBIOPRED.Adult_Cohort_.Jan_2019..Biomarker.Data.Baseline.Visit.Luminex.Serum.DPPIV.pg.ml.Luminex.serum.</th>\n",
       "      <th>X.UBIOPRED.Adult_Cohort_.Jan_2019..Biomarker.Data.Baseline.Visit.Luminex.Serum.Galectin.3.pg.ml.Luminex.serum.</th>\n",
       "      <th>X.UBIOPRED.Adult_Cohort_.Jan_2019..Biomarker.Data.Baseline.Visit.Luminex.Serum.IL.18.pg.ml.Luminex.serum.</th>\n",
       "      <th>X.UBIOPRED.Adult_Cohort_.Jan_2019..Biomarker.Data.Baseline.Visit.Luminex.Serum.IL.1alpha.pg.ml.Luminex.serum.</th>\n",
       "      <th>X.UBIOPRED.Adult_Cohort_.Jan_2019..Biomarker.Data.Baseline.Visit.Luminex.Serum.IL.6Ralpha.pg.ml.Luminex.serum.</th>\n",
       "      <th>...</th>\n",
       "      <th>Subset</th>\n",
       "      <th>Trial</th>\n",
       "      <th>Sex</th>\n",
       "      <th>Age</th>\n",
       "      <th>Race</th>\n",
       "      <th>Sputum.._Eosinophils</th>\n",
       "      <th>Blood.Neutrophils_.</th>\n",
       "      <th>Sputum._Neutrophils</th>\n",
       "      <th>cohort</th>\n",
       "      <th>Blood.Eosinophils_.</th>\n",
       "    </tr>\n",
       "  </thead>\n",
       "  <tbody>\n",
       "    <tr>\n",
       "      <th>0</th>\n",
       "      <td>1</td>\n",
       "      <td>A_000</td>\n",
       "      <td>37.57865</td>\n",
       "      <td>42.71014</td>\n",
       "      <td>4716.67119</td>\n",
       "      <td>153216.96978</td>\n",
       "      <td>5953.57559</td>\n",
       "      <td>215.25319</td>\n",
       "      <td>45.49708</td>\n",
       "      <td>11137.48677</td>\n",
       "      <td>...</td>\n",
       "      <td>subset1</td>\n",
       "      <td>UBIOPRED_ADULT</td>\n",
       "      <td>male</td>\n",
       "      <td>59</td>\n",
       "      <td>white_caucasian</td>\n",
       "      <td>0.38</td>\n",
       "      <td>66.00</td>\n",
       "      <td>58.27</td>\n",
       "      <td>Severe</td>\n",
       "      <td>6.00</td>\n",
       "    </tr>\n",
       "    <tr>\n",
       "      <th>1</th>\n",
       "      <td>2</td>\n",
       "      <td>A_001</td>\n",
       "      <td>27.72896</td>\n",
       "      <td>87.18486</td>\n",
       "      <td>6804.54264</td>\n",
       "      <td>117791.50419</td>\n",
       "      <td>7104.30764</td>\n",
       "      <td>349.29102</td>\n",
       "      <td>37.46309</td>\n",
       "      <td>11397.40934</td>\n",
       "      <td>...</td>\n",
       "      <td>subset1</td>\n",
       "      <td>UBIOPRED_ADULT</td>\n",
       "      <td>female</td>\n",
       "      <td>32</td>\n",
       "      <td>white_caucasian</td>\n",
       "      <td>NaN</td>\n",
       "      <td>57.30</td>\n",
       "      <td>NaN</td>\n",
       "      <td>Healthy</td>\n",
       "      <td>1.91</td>\n",
       "    </tr>\n",
       "    <tr>\n",
       "      <th>2</th>\n",
       "      <td>3</td>\n",
       "      <td>A_002</td>\n",
       "      <td>52.98132</td>\n",
       "      <td>17.46112</td>\n",
       "      <td>6783.31921</td>\n",
       "      <td>50768.02510</td>\n",
       "      <td>7365.22214</td>\n",
       "      <td>224.03564</td>\n",
       "      <td>40.15679</td>\n",
       "      <td>12108.93463</td>\n",
       "      <td>...</td>\n",
       "      <td>subset1</td>\n",
       "      <td>UBIOPRED_ADULT</td>\n",
       "      <td>female</td>\n",
       "      <td>48</td>\n",
       "      <td>white_caucasian</td>\n",
       "      <td>0.00</td>\n",
       "      <td>57.14</td>\n",
       "      <td>16.96</td>\n",
       "      <td>Healthy</td>\n",
       "      <td>7.14</td>\n",
       "    </tr>\n",
       "    <tr>\n",
       "      <th>3</th>\n",
       "      <td>4</td>\n",
       "      <td>A_003</td>\n",
       "      <td>42.46127</td>\n",
       "      <td>32.60452</td>\n",
       "      <td>3566.77690</td>\n",
       "      <td>131762.81237</td>\n",
       "      <td>3876.06006</td>\n",
       "      <td>175.14957</td>\n",
       "      <td>35.22613</td>\n",
       "      <td>12682.15856</td>\n",
       "      <td>...</td>\n",
       "      <td>subset1</td>\n",
       "      <td>UBIOPRED_ADULT</td>\n",
       "      <td>male</td>\n",
       "      <td>44</td>\n",
       "      <td>white_caucasian</td>\n",
       "      <td>72.44</td>\n",
       "      <td>80.74</td>\n",
       "      <td>17.32</td>\n",
       "      <td>Severe</td>\n",
       "      <td>1.14</td>\n",
       "    </tr>\n",
       "    <tr>\n",
       "      <th>4</th>\n",
       "      <td>5</td>\n",
       "      <td>A_004</td>\n",
       "      <td>54.90668</td>\n",
       "      <td>46.37395</td>\n",
       "      <td>7749.36779</td>\n",
       "      <td>198096.50894</td>\n",
       "      <td>7380.32731</td>\n",
       "      <td>204.72715</td>\n",
       "      <td>31.65717</td>\n",
       "      <td>13938.13469</td>\n",
       "      <td>...</td>\n",
       "      <td>subset1</td>\n",
       "      <td>UBIOPRED_ADULT</td>\n",
       "      <td>female</td>\n",
       "      <td>55</td>\n",
       "      <td>white_caucasian</td>\n",
       "      <td>1.18</td>\n",
       "      <td>53.40</td>\n",
       "      <td>4.72</td>\n",
       "      <td>Severe_Smoker</td>\n",
       "      <td>6.90</td>\n",
       "    </tr>\n",
       "  </tbody>\n",
       "</table>\n",
       "<p>5 rows × 425 columns</p>\n",
       "</div>"
      ],
      "text/plain": [
       "   Unnamed: 0 Patient  \\\n",
       "0           1   A_000   \n",
       "1           2   A_001   \n",
       "2           3   A_002   \n",
       "3           4   A_003   \n",
       "4           5   A_004   \n",
       "\n",
       "   X.UBIOPRED.Adult_Cohort_.Jan_2019..Biomarker.Data.Baseline.Visit.Luminex.Serum.C5a.pg.ml.Luminex.serum.  \\\n",
       "0                                           37.57865                                                         \n",
       "1                                           27.72896                                                         \n",
       "2                                           52.98132                                                         \n",
       "3                                           42.46127                                                         \n",
       "4                                           54.90668                                                         \n",
       "\n",
       "   X.UBIOPRED.Adult_Cohort_.Jan_2019..Biomarker.Data.Baseline.Visit.Luminex.Serum.CD30.pg.ml.Luminex.serum.  \\\n",
       "0                                           42.71014                                                          \n",
       "1                                           87.18486                                                          \n",
       "2                                           17.46112                                                          \n",
       "3                                           32.60452                                                          \n",
       "4                                           46.37395                                                          \n",
       "\n",
       "   X.UBIOPRED.Adult_Cohort_.Jan_2019..Biomarker.Data.Baseline.Visit.Luminex.Serum.CD40L.pg.ml.Luminex.serum.  \\\n",
       "0                                         4716.67119                                                           \n",
       "1                                         6804.54264                                                           \n",
       "2                                         6783.31921                                                           \n",
       "3                                         3566.77690                                                           \n",
       "4                                         7749.36779                                                           \n",
       "\n",
       "   X.UBIOPRED.Adult_Cohort_.Jan_2019..Biomarker.Data.Baseline.Visit.Luminex.Serum.DPPIV.pg.ml.Luminex.serum.  \\\n",
       "0                                       153216.96978                                                           \n",
       "1                                       117791.50419                                                           \n",
       "2                                        50768.02510                                                           \n",
       "3                                       131762.81237                                                           \n",
       "4                                       198096.50894                                                           \n",
       "\n",
       "   X.UBIOPRED.Adult_Cohort_.Jan_2019..Biomarker.Data.Baseline.Visit.Luminex.Serum.Galectin.3.pg.ml.Luminex.serum.  \\\n",
       "0                                         5953.57559                                                                \n",
       "1                                         7104.30764                                                                \n",
       "2                                         7365.22214                                                                \n",
       "3                                         3876.06006                                                                \n",
       "4                                         7380.32731                                                                \n",
       "\n",
       "   X.UBIOPRED.Adult_Cohort_.Jan_2019..Biomarker.Data.Baseline.Visit.Luminex.Serum.IL.18.pg.ml.Luminex.serum.  \\\n",
       "0                                          215.25319                                                           \n",
       "1                                          349.29102                                                           \n",
       "2                                          224.03564                                                           \n",
       "3                                          175.14957                                                           \n",
       "4                                          204.72715                                                           \n",
       "\n",
       "   X.UBIOPRED.Adult_Cohort_.Jan_2019..Biomarker.Data.Baseline.Visit.Luminex.Serum.IL.1alpha.pg.ml.Luminex.serum.  \\\n",
       "0                                           45.49708                                                               \n",
       "1                                           37.46309                                                               \n",
       "2                                           40.15679                                                               \n",
       "3                                           35.22613                                                               \n",
       "4                                           31.65717                                                               \n",
       "\n",
       "   X.UBIOPRED.Adult_Cohort_.Jan_2019..Biomarker.Data.Baseline.Visit.Luminex.Serum.IL.6Ralpha.pg.ml.Luminex.serum.  \\\n",
       "0                                        11137.48677                                                                \n",
       "1                                        11397.40934                                                                \n",
       "2                                        12108.93463                                                                \n",
       "3                                        12682.15856                                                                \n",
       "4                                        13938.13469                                                                \n",
       "\n",
       "   ...   Subset           Trial     Sex  Age             Race  \\\n",
       "0  ...  subset1  UBIOPRED_ADULT    male   59  white_caucasian   \n",
       "1  ...  subset1  UBIOPRED_ADULT  female   32  white_caucasian   \n",
       "2  ...  subset1  UBIOPRED_ADULT  female   48  white_caucasian   \n",
       "3  ...  subset1  UBIOPRED_ADULT    male   44  white_caucasian   \n",
       "4  ...  subset1  UBIOPRED_ADULT  female   55  white_caucasian   \n",
       "\n",
       "   Sputum.._Eosinophils  Blood.Neutrophils_.  Sputum._Neutrophils  \\\n",
       "0                  0.38                66.00                58.27   \n",
       "1                   NaN                57.30                  NaN   \n",
       "2                  0.00                57.14                16.96   \n",
       "3                 72.44                80.74                17.32   \n",
       "4                  1.18                53.40                 4.72   \n",
       "\n",
       "          cohort  Blood.Eosinophils_.  \n",
       "0         Severe                 6.00  \n",
       "1        Healthy                 1.91  \n",
       "2        Healthy                 7.14  \n",
       "3         Severe                 1.14  \n",
       "4  Severe_Smoker                 6.90  \n",
       "\n",
       "[5 rows x 425 columns]"
      ]
     },
     "execution_count": 7,
     "metadata": {},
     "output_type": "execute_result"
    }
   ],
   "source": [
    "df.head(5)"
   ]
  },
  {
   "cell_type": "code",
   "execution_count": 9,
   "metadata": {},
   "outputs": [
    {
     "data": {
      "text/plain": [
       "Index(['Unnamed: 0', 'Patient',\n",
       "       'X.UBIOPRED.Adult_Cohort_.Jan_2019..Biomarker.Data.Baseline.Visit.Luminex.Serum.C5a.pg.ml.Luminex.serum.',\n",
       "       'X.UBIOPRED.Adult_Cohort_.Jan_2019..Biomarker.Data.Baseline.Visit.Luminex.Serum.CD30.pg.ml.Luminex.serum.',\n",
       "       'X.UBIOPRED.Adult_Cohort_.Jan_2019..Biomarker.Data.Baseline.Visit.Luminex.Serum.CD40L.pg.ml.Luminex.serum.',\n",
       "       'X.UBIOPRED.Adult_Cohort_.Jan_2019..Biomarker.Data.Baseline.Visit.Luminex.Serum.DPPIV.pg.ml.Luminex.serum.',\n",
       "       'X.UBIOPRED.Adult_Cohort_.Jan_2019..Biomarker.Data.Baseline.Visit.Luminex.Serum.Galectin.3.pg.ml.Luminex.serum.',\n",
       "       'X.UBIOPRED.Adult_Cohort_.Jan_2019..Biomarker.Data.Baseline.Visit.Luminex.Serum.IL.18.pg.ml.Luminex.serum.',\n",
       "       'X.UBIOPRED.Adult_Cohort_.Jan_2019..Biomarker.Data.Baseline.Visit.Luminex.Serum.IL.1alpha.pg.ml.Luminex.serum.',\n",
       "       'X.UBIOPRED.Adult_Cohort_.Jan_2019..Biomarker.Data.Baseline.Visit.Luminex.Serum.IL.6Ralpha.pg.ml.Luminex.serum.',\n",
       "       ...\n",
       "       'Subset', 'Trial', 'Sex', 'Age', 'Race', 'Sputum.._Eosinophils',\n",
       "       'Blood.Neutrophils_.', 'Sputum._Neutrophils', 'cohort',\n",
       "       'Blood.Eosinophils_.'],\n",
       "      dtype='object', length=425)"
      ]
     },
     "execution_count": 9,
     "metadata": {},
     "output_type": "execute_result"
    }
   ],
   "source": [
    "#Have an idea of columns in df\n",
    "df.columns"
   ]
  },
  {
   "cell_type": "code",
   "execution_count": 13,
   "metadata": {},
   "outputs": [
    {
     "data": {
      "text/plain": [
       "Text(0.5, 1.02, 'kproto clusters size')"
      ]
     },
     "execution_count": 13,
     "metadata": {},
     "output_type": "execute_result"
    },
    {
     "data": {
      "image/png": "[encoded data removed]",
      "text/plain": [
       "<Figure size 360x360 with 1 Axes>"
      ]
     },
     "metadata": {
      "needs_background": "light"
     },
     "output_type": "display_data"
    }
   ],
   "source": [
    "# clusters size\n",
    "from matplotlib import pyplot as plt\n",
    "df['cluster'].value_counts(sort=False).plot(\n",
    "    kind='barh',\n",
    "    color=['#66c2a5', '#fc8d62', '#8da0cb', '#e78ac3'],\n",
    "    figsize=(5, 5)).invert_yaxis()\n",
    "plt.xlabel('nb of patients', labelpad=14)\n",
    "plt.ylabel('clusters')\n",
    "plt.title('kproto clusters size', y=1.02)\n",
    "#import os\n",
    "#os.chdir(\"/rds/general/user/md2620/home/asthma/Malo/\")\n",
    "#plt.savefig('k_proto_cluster_size_08+.png')"
   ]
  },
  {
   "cell_type": "code",
   "execution_count": 14,
   "metadata": {},
   "outputs": [],
   "source": [
    "df_sub = df[[\"cluster\", \"cohort\"]]"
   ]
  },
  {
   "cell_type": "code",
   "execution_count": 15,
   "metadata": {},
   "outputs": [
    {
     "data": {
      "text/plain": [
       "pandas.core.frame.DataFrame"
      ]
     },
     "execution_count": 15,
     "metadata": {},
     "output_type": "execute_result"
    }
   ],
   "source": [
    "type(df_sub)"
   ]
  },
  {
   "cell_type": "code",
   "execution_count": 43,
   "metadata": {},
   "outputs": [],
   "source": [
    "df_grouped = df_sub.groupby(['cohort','cluster']).size().sort_values(ascending=True)"
   ]
  },
  {
   "cell_type": "code",
   "execution_count": 28,
   "metadata": {},
   "outputs": [],
   "source": [
    "df_grouped_2 = df_sub.groupby(['cohort']).size()"
   ]
  },
  {
   "cell_type": "code",
   "execution_count": 88,
   "metadata": {},
   "outputs": [
    {
     "data": {
      "text/plain": [
       "Text(0.5, 1.02, 'kproto clusters size per asthma severity')"
      ]
     },
     "execution_count": 88,
     "metadata": {},
     "output_type": "execute_result"
    },
    {
     "data": {
      "image/png": "[encoded data removed]",
      "text/plain": [
       "<Figure size 720x720 with 1 Axes>"
      ]
     },
     "metadata": {
      "needs_background": "light"
     },
     "output_type": "display_data"
    }
   ],
   "source": [
    "df_grouped.plot(kind=\"barh\",figsize = (10,10))\n",
    "plt.xlabel('nb of patients', labelpad=14)\n",
    "plt.ylabel('clusters')\n",
    "plt.title('kproto clusters size per asthma severity', y=1.02)"
   ]
  },
  {
   "cell_type": "code",
   "execution_count": 85,
   "metadata": {},
   "outputs": [],
   "source": [
    "combo = pd.crosstab(df_sub['cluster'], df_sub['cohort'])"
   ]
  },
  {
   "cell_type": "code",
   "execution_count": 94,
   "metadata": {},
   "outputs": [
    {
     "data": {
      "text/plain": [
       "<matplotlib.legend.Legend at 0x145fee575198>"
      ]
     },
     "execution_count": 94,
     "metadata": {},
     "output_type": "execute_result"
    },
    {
     "data": {
      "image/png": "[encoded data removed]",
      "text/plain": [
       "<Figure size 720x720 with 1 Axes>"
      ]
     },
     "metadata": {
      "needs_background": "light"
     },
     "output_type": "display_data"
    }
   ],
   "source": [
    "combo.plot(kind='barh', figsize = (10,10), stacked=True)\n",
    "plt.legend(combo.columns,bbox_to_anchor=(1.05,1.01))"
   ]
  },
  {
   "cell_type": "code",
   "execution_count": 63,
   "metadata": {},
   "outputs": [],
   "source": [
    "combo_percentage = combo.div(combo.sum(axis=1),axis=0)*100"
   ]
  },
  {
   "cell_type": "code",
   "execution_count": 87,
   "metadata": {},
   "outputs": [
    {
     "data": {
      "text/plain": [
       "array([[19.76744186, 22.09302326, 50.        ,  4.65116279,  3.48837209],\n",
       "       [16.66666667, 20.        , 46.66666667, 15.        ,  1.66666667],\n",
       "       [ 0.        ,  0.        , 74.32432432, 25.67567568,  0.        ],\n",
       "       [ 0.        ,  0.        , 70.58823529, 29.41176471,  0.        ],\n",
       "       [ 3.65853659,  7.31707317, 65.85365854, 23.17073171,  0.        ],\n",
       "       [ 1.2345679 ,  7.40740741, 59.25925926, 28.39506173,  3.7037037 ],\n",
       "       [ 7.22891566,  7.22891566, 56.62650602, 27.71084337,  1.20481928],\n",
       "       [40.        , 27.5       , 20.        , 12.5       ,  0.        ],\n",
       "       [49.48453608, 28.86597938, 16.49484536,  3.09278351,  2.06185567]])"
      ]
     },
     "execution_count": 87,
     "metadata": {},
     "output_type": "execute_result"
    }
   ],
   "source": [
    "combo_percentage.values"
   ]
  },
  {
   "cell_type": "code",
   "execution_count": 65,
   "metadata": {},
   "outputs": [
    {
     "data": {
      "text/html": [
       "<div>\n",
       "<style scoped>\n",
       "    .dataframe tbody tr th:only-of-type {\n",
       "        vertical-align: middle;\n",
       "    }\n",
       "\n",
       "    .dataframe tbody tr th {\n",
       "        vertical-align: top;\n",
       "    }\n",
       "\n",
       "    .dataframe thead th {\n",
       "        text-align: right;\n",
       "    }\n",
       "</style>\n",
       "<table border=\"1\" class=\"dataframe\">\n",
       "  <thead>\n",
       "    <tr style=\"text-align: right;\">\n",
       "      <th>cohort</th>\n",
       "      <th>Healthy</th>\n",
       "      <th>Mild/Moderate</th>\n",
       "      <th>Severe</th>\n",
       "      <th>Severe_Smoker</th>\n",
       "      <th>cohort_v</th>\n",
       "    </tr>\n",
       "    <tr>\n",
       "      <th>cluster</th>\n",
       "      <th></th>\n",
       "      <th></th>\n",
       "      <th></th>\n",
       "      <th></th>\n",
       "      <th></th>\n",
       "    </tr>\n",
       "  </thead>\n",
       "  <tbody>\n",
       "    <tr>\n",
       "      <th>0</th>\n",
       "      <td>17</td>\n",
       "      <td>19</td>\n",
       "      <td>43</td>\n",
       "      <td>4</td>\n",
       "      <td>3</td>\n",
       "    </tr>\n",
       "    <tr>\n",
       "      <th>1</th>\n",
       "      <td>10</td>\n",
       "      <td>12</td>\n",
       "      <td>28</td>\n",
       "      <td>9</td>\n",
       "      <td>1</td>\n",
       "    </tr>\n",
       "    <tr>\n",
       "      <th>2</th>\n",
       "      <td>0</td>\n",
       "      <td>0</td>\n",
       "      <td>55</td>\n",
       "      <td>19</td>\n",
       "      <td>0</td>\n",
       "    </tr>\n",
       "    <tr>\n",
       "      <th>3</th>\n",
       "      <td>0</td>\n",
       "      <td>0</td>\n",
       "      <td>12</td>\n",
       "      <td>5</td>\n",
       "      <td>0</td>\n",
       "    </tr>\n",
       "    <tr>\n",
       "      <th>4</th>\n",
       "      <td>3</td>\n",
       "      <td>6</td>\n",
       "      <td>54</td>\n",
       "      <td>19</td>\n",
       "      <td>0</td>\n",
       "    </tr>\n",
       "    <tr>\n",
       "      <th>5</th>\n",
       "      <td>1</td>\n",
       "      <td>6</td>\n",
       "      <td>48</td>\n",
       "      <td>23</td>\n",
       "      <td>3</td>\n",
       "    </tr>\n",
       "    <tr>\n",
       "      <th>6</th>\n",
       "      <td>6</td>\n",
       "      <td>6</td>\n",
       "      <td>47</td>\n",
       "      <td>23</td>\n",
       "      <td>1</td>\n",
       "    </tr>\n",
       "    <tr>\n",
       "      <th>7</th>\n",
       "      <td>16</td>\n",
       "      <td>11</td>\n",
       "      <td>8</td>\n",
       "      <td>5</td>\n",
       "      <td>0</td>\n",
       "    </tr>\n",
       "    <tr>\n",
       "      <th>8</th>\n",
       "      <td>48</td>\n",
       "      <td>28</td>\n",
       "      <td>16</td>\n",
       "      <td>3</td>\n",
       "      <td>2</td>\n",
       "    </tr>\n",
       "  </tbody>\n",
       "</table>\n",
       "</div>"
      ],
      "text/plain": [
       "cohort   Healthy  Mild/Moderate  Severe  Severe_Smoker  cohort_v\n",
       "cluster                                                         \n",
       "0             17             19      43              4         3\n",
       "1             10             12      28              9         1\n",
       "2              0              0      55             19         0\n",
       "3              0              0      12              5         0\n",
       "4              3              6      54             19         0\n",
       "5              1              6      48             23         3\n",
       "6              6              6      47             23         1\n",
       "7             16             11       8              5         0\n",
       "8             48             28      16              3         2"
      ]
     },
     "execution_count": 65,
     "metadata": {},
     "output_type": "execute_result"
    }
   ],
   "source": [
    "combo"
   ]
  },
  {
   "cell_type": "code",
   "execution_count": 75,
   "metadata": {},
   "outputs": [
    {
     "data": {
      "text/plain": [
       "cohort\n",
       "Healthy          float64\n",
       "Mild/Moderate    float64\n",
       "Severe           float64\n",
       "Severe_Smoker    float64\n",
       "cohort_v         float64\n",
       "dtype: object"
      ]
     },
     "execution_count": 75,
     "metadata": {},
     "output_type": "execute_result"
    }
   ],
   "source": [
    "combo_percentage.dtypes"
   ]
  },
  {
   "cell_type": "code",
   "execution_count": 78,
   "metadata": {},
   "outputs": [
    {
     "data": {
      "text/html": [
       "<div>\n",
       "<style scoped>\n",
       "    .dataframe tbody tr th:only-of-type {\n",
       "        vertical-align: middle;\n",
       "    }\n",
       "\n",
       "    .dataframe tbody tr th {\n",
       "        vertical-align: top;\n",
       "    }\n",
       "\n",
       "    .dataframe thead th {\n",
       "        text-align: right;\n",
       "    }\n",
       "</style>\n",
       "<table border=\"1\" class=\"dataframe\">\n",
       "  <thead>\n",
       "    <tr style=\"text-align: right;\">\n",
       "      <th>cohort</th>\n",
       "      <th>Healthy</th>\n",
       "      <th>Mild/Moderate</th>\n",
       "      <th>Severe</th>\n",
       "      <th>Severe_Smoker</th>\n",
       "      <th>cohort_v</th>\n",
       "    </tr>\n",
       "    <tr>\n",
       "      <th>cluster</th>\n",
       "      <th></th>\n",
       "      <th></th>\n",
       "      <th></th>\n",
       "      <th></th>\n",
       "      <th></th>\n",
       "    </tr>\n",
       "  </thead>\n",
       "  <tbody>\n",
       "    <tr>\n",
       "      <th>0</th>\n",
       "      <td>19.767442</td>\n",
       "      <td>22.093023</td>\n",
       "      <td>50.000000</td>\n",
       "      <td>4.651163</td>\n",
       "      <td>3.488372</td>\n",
       "    </tr>\n",
       "    <tr>\n",
       "      <th>1</th>\n",
       "      <td>16.666667</td>\n",
       "      <td>20.000000</td>\n",
       "      <td>46.666667</td>\n",
       "      <td>15.000000</td>\n",
       "      <td>1.666667</td>\n",
       "    </tr>\n",
       "    <tr>\n",
       "      <th>2</th>\n",
       "      <td>0.000000</td>\n",
       "      <td>0.000000</td>\n",
       "      <td>74.324324</td>\n",
       "      <td>25.675676</td>\n",
       "      <td>0.000000</td>\n",
       "    </tr>\n",
       "    <tr>\n",
       "      <th>3</th>\n",
       "      <td>0.000000</td>\n",
       "      <td>0.000000</td>\n",
       "      <td>70.588235</td>\n",
       "      <td>29.411765</td>\n",
       "      <td>0.000000</td>\n",
       "    </tr>\n",
       "    <tr>\n",
       "      <th>4</th>\n",
       "      <td>3.658537</td>\n",
       "      <td>7.317073</td>\n",
       "      <td>65.853659</td>\n",
       "      <td>23.170732</td>\n",
       "      <td>0.000000</td>\n",
       "    </tr>\n",
       "    <tr>\n",
       "      <th>5</th>\n",
       "      <td>1.234568</td>\n",
       "      <td>7.407407</td>\n",
       "      <td>59.259259</td>\n",
       "      <td>28.395062</td>\n",
       "      <td>3.703704</td>\n",
       "    </tr>\n",
       "    <tr>\n",
       "      <th>6</th>\n",
       "      <td>7.228916</td>\n",
       "      <td>7.228916</td>\n",
       "      <td>56.626506</td>\n",
       "      <td>27.710843</td>\n",
       "      <td>1.204819</td>\n",
       "    </tr>\n",
       "    <tr>\n",
       "      <th>7</th>\n",
       "      <td>40.000000</td>\n",
       "      <td>27.500000</td>\n",
       "      <td>20.000000</td>\n",
       "      <td>12.500000</td>\n",
       "      <td>0.000000</td>\n",
       "    </tr>\n",
       "    <tr>\n",
       "      <th>8</th>\n",
       "      <td>49.484536</td>\n",
       "      <td>28.865979</td>\n",
       "      <td>16.494845</td>\n",
       "      <td>3.092784</td>\n",
       "      <td>2.061856</td>\n",
       "    </tr>\n",
       "  </tbody>\n",
       "</table>\n",
       "</div>"
      ],
      "text/plain": [
       "cohort     Healthy  Mild/Moderate     Severe  Severe_Smoker  cohort_v\n",
       "cluster                                                              \n",
       "0        19.767442      22.093023  50.000000       4.651163  3.488372\n",
       "1        16.666667      20.000000  46.666667      15.000000  1.666667\n",
       "2         0.000000       0.000000  74.324324      25.675676  0.000000\n",
       "3         0.000000       0.000000  70.588235      29.411765  0.000000\n",
       "4         3.658537       7.317073  65.853659      23.170732  0.000000\n",
       "5         1.234568       7.407407  59.259259      28.395062  3.703704\n",
       "6         7.228916       7.228916  56.626506      27.710843  1.204819\n",
       "7        40.000000      27.500000  20.000000      12.500000  0.000000\n",
       "8        49.484536      28.865979  16.494845       3.092784  2.061856"
      ]
     },
     "execution_count": 78,
     "metadata": {},
     "output_type": "execute_result"
    }
   ],
   "source": [
    "combo_percentage"
   ]
  },
  {
   "cell_type": "code",
   "execution_count": 113,
   "metadata": {},
   "outputs": [
    {
     "data": {
      "text/plain": [
       "Text(0.5, 1.0, 'Percentage of each form of asthma according to cluster belonging')"
      ]
     },
     "execution_count": 113,
     "metadata": {},
     "output_type": "execute_result"
    },
    {
     "data": {
      "image/png": "[encoded data removed]",
      "text/plain": [
       "<Figure size 720x720 with 1 Axes>"
      ]
     },
     "metadata": {
      "needs_background": "light"
     },
     "output_type": "display_data"
    }
   ],
   "source": [
    "combo_percentage.plot(kind='barh', figsize = (10,10), stacked=True,mark_right=True)\n",
    "plt.legend(combo_percentage.columns,bbox_to_anchor=(1.05,1.01))\n",
    "plt.xlabel('Cumulative percent')\n",
    "plt.ylabel('Asthma severity for each cluster')\n",
    "plt.title('Percentage of each form of asthma according to cluster belonging')\n",
    "#for n in combo_percentage:\n",
    "    #for i, (cs, ab, pc) in enumerate(zip(combo.iloc[:, 0:].cumsum(1)[n], \n",
    "                                         #combo[n], combo_percentage[n])):\n",
    "        #plt.text(cs - ab / 2, i, str(np.round(pc, 1)) + '%', va='center', ha='center',\n",
    "                   #rotation = 0, fontsize = 8)\n",
    "#plt.tight_layout()"
   ]
  },
  {
   "cell_type": "code",
   "execution_count": null,
   "metadata": {},
   "outputs": [],
   "source": []
  }
 ],
 "metadata": {
  "kernelspec": {
   "display_name": "Python 3",
   "language": "python",
   "name": "python3"
  },
  "language_info": {
   "codemirror_mode": {
    "name": "ipython",
    "version": 3
   },
   "file_extension": ".py",
   "mimetype": "text/x-python",
   "name": "python",
   "nbconvert_exporter": "python",
   "pygments_lexer": "ipython3",
   "version": "3.6.8"
  }
 },
 "nbformat": 4,
 "nbformat_minor": 2
}
